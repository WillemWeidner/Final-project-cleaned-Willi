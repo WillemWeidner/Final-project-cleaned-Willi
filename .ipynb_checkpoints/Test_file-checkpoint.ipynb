{
 "cells": [
  {
   "cell_type": "code",
   "execution_count": null,
   "id": "096a6f53-3a64-4d13-939d-c0078e65ed6b",
   "metadata": {},
   "outputs": [],
   "source": [
    "import openmeteo_requests\n",
    "import requests_cache\n",
    "import pandas as pd\n",
    "from retry_requests import retry"
   ]
  },
  {
   "cell_type": "code",
   "execution_count": null,
   "id": "9c8398c1-5f9b-48e2-ab91-fdf91562f402",
   "metadata": {},
   "outputs": [],
   "source": []
  },
  {
   "cell_type": "code",
   "execution_count": null,
   "id": "8f9e5310-98cd-4680-bfd5-96769fe259e3",
   "metadata": {},
   "outputs": [],
   "source": [
    "# Test with df1 with 5 rows"
   ]
  },
  {
   "cell_type": "code",
   "execution_count": null,
   "id": "73f03d13-cbd2-44e9-8daf-593e207468a5",
   "metadata": {},
   "outputs": [],
   "source": [
    "df1 = pd.read_csv('output_file.csv')"
   ]
  },
  {
   "cell_type": "code",
   "execution_count": null,
   "id": "890654d8-6210-44ce-937f-68c35bf6a47d",
   "metadata": {},
   "outputs": [],
   "source": []
  },
  {
   "cell_type": "code",
   "execution_count": null,
   "id": "36d3868a-fa34-461c-8dba-51c0f4e4e96f",
   "metadata": {},
   "outputs": [],
   "source": [
    "#Setup the Open-Meteo API client with cache and retry on error\n",
    "cache_session = requests_cache.CachedSession('.cache', expire_after = -1)\n",
    "retry_session = retry(cache_session, retries = 5, backoff_factor = 0.2)\n",
    "openmeteo = openmeteo_requests.Client(session = retry_session)\n",
    "\n",
    "#Make sure all required weather variables are listed here\n",
    "#The order of variables in hourly or daily is important to assign them correctly below\n",
    "url = \"https://archive-api.open-meteo.com/v1/archive\" \n",
    "\n",
    "# Create an empty list to store the responses\n",
    "all_responses = []\n",
    "\n",
    "# Iterate through all rows in df1\n",
    "for index, row in df1.iterrows():\n",
    "    params = {\n",
    "        \"latitude\": row['latitude'],\n",
    "        \"longitude\": row['longitude'],\n",
    "        \"start_date\": \"2010-01-01\",\n",
    "        \"end_date\": \"2011-12-31\",\n",
    "        \"daily\": [\"temperature_2m_mean\", \"daylight_duration\", \"sunshine_duration\", \"rain_sum\", \"snowfall_sum\"]\n",
    "    }\n",
    "\n",
    "    # Make the Open-Meteo API request and append the response to the list\n",
    "    response = openmeteo.weather_api(url, params=params)\n",
    "    all_responses.append(response)\n",
    "\n",
    "# Display the list of responses\n",
    "print(all_responses)"
   ]
  },
  {
   "cell_type": "code",
   "execution_count": null,
   "id": "717c8b6c-7727-45ac-a980-37668cfa1a4f",
   "metadata": {},
   "outputs": [],
   "source": []
  },
  {
   "cell_type": "code",
   "execution_count": null,
   "id": "97ac6ec8-3d2a-400e-b1f3-7347200effd4",
   "metadata": {},
   "outputs": [],
   "source": [
    "# Initialize an empty DataFrame to store all daily data\n",
    "all_daily_data = pd.DataFrame()\n",
    "\n",
    "# Process each location's response in a loop\n",
    "for responses in all_responses:\n",
    "    # Iterate over each response in the list\n",
    "    for response in responses:\n",
    "        print(f\"Coordinates {response.Latitude()}°E {response.Longitude()}°N\")\n",
    "        print(f\"Elevation {response.Elevation()} m asl\")\n",
    "        print(f\"Timezone {response.Timezone()} {response.TimezoneAbbreviation()}\")\n",
    "        print(f\"Timezone difference to GMT+0 {response.UtcOffsetSeconds()} s\")\n",
    "\n",
    "        # Process daily data\n",
    "        daily = response.Daily()\n",
    "        daily_daylight_duration = daily.Variables(0).ValuesAsNumpy()\n",
    "        daily_sunshine_duration = daily.Variables(1).ValuesAsNumpy()\n",
    "        daily_rain_sum = daily.Variables(2).ValuesAsNumpy()\n",
    "        daily_snowfall_sum = daily.Variables(3).ValuesAsNumpy()\n",
    "\n",
    "        daily_data = {\n",
    "            \"date\": pd.date_range(\n",
    "                start=pd.to_datetime(daily.Time(), unit=\"s\"),\n",
    "                end=pd.to_datetime(daily.TimeEnd(), unit=\"s\"),\n",
    "                freq=pd.Timedelta(seconds=daily.Interval()),\n",
    "                inclusive=\"left\"\n",
    "            ),\n",
    "            \"daylight_duration\": daily_daylight_duration,\n",
    "            \"sunshine_duration\": daily_sunshine_duration,\n",
    "            \"rain_sum\": daily_rain_sum,\n",
    "            \"snowfall_sum\": daily_snowfall_sum\n",
    "        }\n",
    "\n",
    "        daily_dataframe = pd.DataFrame(data=daily_data)\n",
    "        \n",
    "        # Append data for the current location to the overall DataFrame\n",
    "        all_daily_data = pd.concat([all_daily_data, daily_dataframe], ignore_index=True)\n",
    "\n",
    "# Display the resulting DataFrame for all locations\n",
    "print(all_daily_data)"
   ]
  },
  {
   "cell_type": "code",
   "execution_count": null,
   "id": "e9b79628-f822-49e4-8778-77bbc8ae7563",
   "metadata": {},
   "outputs": [],
   "source": []
  },
  {
   "cell_type": "code",
   "execution_count": null,
   "id": "5c1bd8b9-2638-431c-9d19-444e3f84871b",
   "metadata": {},
   "outputs": [],
   "source": [
    "# Try this to get Latitude and Longitude\n",
    "\n",
    "latitudes = []\n",
    "longitudes = []\n",
    "\n",
    "# Process each location's response in a loop\n",
    "for responses in all_responses:\n",
    "    # Iterate over each response in the list\n",
    "    for response in responses:\n",
    "        # Extract latitude and longitude\n",
    "        latitude = response.Latitude()\n",
    "        longitude = response.Longitude()"
   ]
  },
  {
   "cell_type": "code",
   "execution_count": null,
   "id": "2d9cd048-b379-4284-a398-f6d4b0245b9b",
   "metadata": {},
   "outputs": [],
   "source": []
  },
  {
   "cell_type": "code",
   "execution_count": null,
   "id": "e9e35d0b-78be-4a2d-bb01-7ad56d9f4e14",
   "metadata": {},
   "outputs": [],
   "source": [
    "# Add latitude and longitude columns to the DataFrame\n",
    "all_daily_data['latitude'] = latitudes\n",
    "all_daily_data['longitude'] = longitudes"
   ]
  },
  {
   "cell_type": "code",
   "execution_count": null,
   "id": "73b2056f-ef3a-4703-9163-47909cb4d1e5",
   "metadata": {},
   "outputs": [],
   "source": []
  },
  {
   "cell_type": "code",
   "execution_count": null,
   "id": "c838b543-5c9a-489b-85c2-ca97a5415f91",
   "metadata": {},
   "outputs": [],
   "source": [
    "all_daily_data.head()"
   ]
  }
 ],
 "metadata": {
  "kernelspec": {
   "display_name": "Python 3 (ipykernel)",
   "language": "python",
   "name": "python3"
  },
  "language_info": {
   "codemirror_mode": {
    "name": "ipython",
    "version": 3
   },
   "file_extension": ".py",
   "mimetype": "text/x-python",
   "name": "python",
   "nbconvert_exporter": "python",
   "pygments_lexer": "ipython3",
   "version": "3.11.5"
  }
 },
 "nbformat": 4,
 "nbformat_minor": 5
}
