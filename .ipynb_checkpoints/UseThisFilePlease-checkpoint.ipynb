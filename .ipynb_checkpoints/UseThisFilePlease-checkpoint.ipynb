{
 "cells": [
  {
   "cell_type": "code",
   "execution_count": null,
   "id": "aa726a22-60ea-43a1-be5c-8a215ba66004",
   "metadata": {},
   "outputs": [],
   "source": [
    "# https://open-meteo.com/"
   ]
  },
  {
   "cell_type": "code",
   "execution_count": null,
   "id": "2d39a002-d5ce-4d4a-8929-7785f4f424c0",
   "metadata": {},
   "outputs": [],
   "source": []
  },
  {
   "cell_type": "code",
   "execution_count": 2,
   "id": "7dea7a2b-7932-4115-9a45-a4cca8f54b43",
   "metadata": {},
   "outputs": [],
   "source": [
    "import openmeteo_requests\n",
    "import requests_cache\n",
    "import pandas as pd\n",
    "from retry_requests import retry"
   ]
  },
  {
   "cell_type": "code",
   "execution_count": 3,
   "id": "314b8bd1-afc4-4476-8bcd-56325c93300c",
   "metadata": {},
   "outputs": [
    {
     "name": "stdout",
     "output_type": "stream",
     "text": [
      "         Date\n",
      "0  2010-04-01\n",
      "1  2010-07-01\n",
      "2  2010-11-01\n",
      "3  2010-12-01\n",
      "4  2011-07-01\n"
     ]
    }
   ],
   "source": [
    "unique_dates_df = pd.read_csv('unique_dates.csv')\n",
    "print(unique_dates_df.head())"
   ]
  },
  {
   "cell_type": "code",
   "execution_count": 4,
   "id": "4fd8b1d1-dbec-4206-8a4e-a87591388edc",
   "metadata": {},
   "outputs": [
    {
     "name": "stdout",
     "output_type": "stream",
     "text": [
      "   latitude  longitude\n",
      "0     41.82     -72.31\n",
      "1     48.45    -122.61\n",
      "2     33.95    -118.41\n",
      "3     31.49     -98.52\n",
      "4     41.02     -72.31\n"
     ]
    }
   ],
   "source": [
    "unique_lat_lon_df = pd.read_csv('unique_lat_lon.csv')\n",
    "print(unique_lat_lon_df.head())"
   ]
  },
  {
   "cell_type": "code",
   "execution_count": null,
   "id": "6aadb36a-dbfe-4cba-9e56-026b3647f86a",
   "metadata": {},
   "outputs": [],
   "source": []
  },
  {
   "cell_type": "code",
   "execution_count": null,
   "id": "a81c4013-4294-4c2e-a4c1-4d3bb5bddf30",
   "metadata": {},
   "outputs": [],
   "source": [
    "# Create an empty list to store the responses\n",
    "all_responses = []\n",
    "\n",
    "# Setup the Open-Meteo API client with cache and retry on error\n",
    "cache_session = requests_cache.CachedSession('.cache', expire_after=-1)\n",
    "retry_session = retry(cache_session, retries=5, backoff_factor=0.2)\n",
    "openmeteo = openmeteo_requests.Client(session=retry_session)\n",
    "\n",
    "# Make sure all required weather variables are listed here\n",
    "# The order of variables in hourly or daily is important to assign them correctly below\n",
    "url = \"https://archive-api.open-meteo.com/v1/archive\"\n",
    "\n",
    "# Iterate through all unique dates\n",
    "for Date in unique_dates_df['Date']:\n",
    "    # Iterate through all unique latitude and longitude combinations\n",
    "    for index, row in unique_lat_lon_df.iterrows():\n",
    "        latitude = row['latitude']\n",
    "        longitude = row['longitude']\n",
    "\n",
    "        # Format the date in 'YYYY-MM-DD' format\n",
    "        formatted_date = Date.strftime('%Y-%m-%d')\n",
    "\n",
    "        params = {\n",
    "            \"latitude\": latitude,\n",
    "            \"longitude\": longitude,\n",
    "            \"start_date\": formatted_date,\n",
    "            \"end_date\": formatted_date,\n",
    "            \"daily\": [\"temperature_2m_mean\", \"daylight_duration\", \"sunshine_duration\", \"rain_sum\", \"snowfall_sum\"]\n",
    "        }\n",
    "\n",
    "        # Make the Open-Meteo API request and append the response to the list\n",
    "        response = openmeteo.weather_api(url, params=params)\n",
    "        all_responses.append(response)\n",
    "\n",
    "# Display the list of responses\n",
    "print(all_responses)"
   ]
  },
  {
   "cell_type": "code",
   "execution_count": null,
   "id": "1061bb60-55be-446a-9e08-979ab4fb2711",
   "metadata": {},
   "outputs": [],
   "source": []
  },
  {
   "cell_type": "code",
   "execution_count": null,
   "id": "1c47f56b-bdeb-4e5b-81d9-15be4fbe4704",
   "metadata": {},
   "outputs": [],
   "source": [
    "# Initialize an empty DataFrame to store all daily data\n",
    "all_daily_data = pd.DataFrame()\n",
    "\n",
    "# Process each location's response in a loop\n",
    "for responses in all_responses:\n",
    "    # Iterate over each response in the list\n",
    "    for response in responses:\n",
    "        print(f\"Coordinates {response.Latitude()}°E {response.Longitude()}°N\")\n",
    "        print(f\"Elevation {response.Elevation()} m asl\")\n",
    "        print(f\"Timezone {response.Timezone()} {response.TimezoneAbbreviation()}\")\n",
    "        print(f\"Timezone difference to GMT+0 {response.UtcOffsetSeconds()} s\")\n",
    "\n",
    "        # Process daily data\n",
    "        daily = response.Daily()\n",
    "        daily_daylight_duration = daily.Variables(0).ValuesAsNumpy()\n",
    "        daily_sunshine_duration = daily.Variables(1).ValuesAsNumpy()\n",
    "        daily_rain_sum = daily.Variables(2).ValuesAsNumpy()\n",
    "        daily_snowfall_sum = daily.Variables(3).ValuesAsNumpy()\n",
    "\n",
    "        daily_data = {\n",
    "            \"date\": pd.date_range(\n",
    "                start=pd.to_datetime(daily.Time(), unit=\"s\"),\n",
    "                end=pd.to_datetime(daily.TimeEnd(), unit=\"s\"),\n",
    "                freq=pd.Timedelta(seconds=daily.Interval()),\n",
    "                inclusive=\"left\"\n",
    "            ),\n",
    "            \"daylight_duration\": daily_daylight_duration,\n",
    "            \"sunshine_duration\": daily_sunshine_duration,\n",
    "            \"rain_sum\": daily_rain_sum,\n",
    "            \"snowfall_sum\": daily_snowfall_sum\n",
    "        }\n",
    "\n",
    "        daily_dataframe = pd.DataFrame(data=daily_data)\n",
    "        \n",
    "        # Append data for the current location to the overall DataFrame\n",
    "        all_daily_data = pd.concat([all_daily_data, daily_dataframe], ignore_index=True)\n",
    "\n",
    "# Display the resulting DataFrame for all locations\n",
    "print(all_daily_data)"
   ]
  },
  {
   "cell_type": "code",
   "execution_count": null,
   "id": "7b37a555-767a-4ff7-a08d-ac27e0ef9014",
   "metadata": {},
   "outputs": [],
   "source": [
    "latitudes = []\n",
    "longitudes = []\n",
    "\n",
    "# Process each location's response in a loop\n",
    "for responses in all_responses:\n",
    "    # Iterate over each response in the list\n",
    "    for response in responses:\n",
    "        # Extract latitude and longitude\n",
    "        latitude = response.Latitude()\n",
    "        longitude = response.Longitude()\n",
    "\n",
    "        # Append latitude and longitude to the lists\n",
    "        latitudes.append(latitude)\n",
    "        longitudes.append(longitude)"
   ]
  },
  {
   "cell_type": "code",
   "execution_count": null,
   "id": "31a492f1-82f5-44b3-9f64-890c80488843",
   "metadata": {},
   "outputs": [],
   "source": [
    "# Add latitude and longitude columns to the DataFrame\n",
    "all_daily_data['latitude'] = latitudes\n",
    "all_daily_data['longitude'] = longitudes"
   ]
  },
  {
   "cell_type": "code",
   "execution_count": null,
   "id": "9d2c30bf-62ce-414f-ae62-17a5e8e59e30",
   "metadata": {},
   "outputs": [],
   "source": [
    "all_daily_data.to_csv(\"all_daily_data.csv\", index=False)"
   ]
  }
 ],
 "metadata": {
  "kernelspec": {
   "display_name": "Python 3 (ipykernel)",
   "language": "python",
   "name": "python3"
  },
  "language_info": {
   "codemirror_mode": {
    "name": "ipython",
    "version": 3
   },
   "file_extension": ".py",
   "mimetype": "text/x-python",
   "name": "python",
   "nbconvert_exporter": "python",
   "pygments_lexer": "ipython3",
   "version": "3.11.5"
  }
 },
 "nbformat": 4,
 "nbformat_minor": 5
}
